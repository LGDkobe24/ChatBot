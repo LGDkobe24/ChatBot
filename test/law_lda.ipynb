{
 "cells": [
  {
   "cell_type": "code",
   "execution_count": 1,
   "metadata": {
    "collapsed": false
   },
   "outputs": [],
   "source": [
    "import jieba\n",
    "import json\n",
    "from sklearn.decomposition import LatentDirichletAllocation\n",
    "from sklearn.feature_extraction import DictVectorizer\n",
    "from sklearn.feature_extraction.text import TfidfTransformer\n"
   ]
  },
  {
   "cell_type": "code",
   "execution_count": 2,
   "metadata": {
    "collapsed": false
   },
   "outputs": [
    {
     "name": "stderr",
     "output_type": "stream",
     "text": [
      "Building prefix dict from the default dictionary ...\n",
      "DEBUG:jieba:Building prefix dict from the default dictionary ...\n",
      "Dumping model to file cache /var/folders/bc/vmq9t0692mb03xmqfsm130fm0000gn/T/jieba.cache\n",
      "DEBUG:jieba:Dumping model to file cache /var/folders/bc/vmq9t0692mb03xmqfsm130fm0000gn/T/jieba.cache\n",
      "Loading model cost 1.782 seconds.\n",
      "DEBUG:jieba:Loading model cost 1.782 seconds.\n",
      "Prefix dict has been built succesfully.\n",
      "DEBUG:jieba:Prefix dict has been built succesfully.\n"
     ]
    }
   ],
   "source": [
    "jieba.load_userdict(\"../resources/law_lexicon.txt\")\n",
    "DATA_PATH = '/Users/mac/Desktop/law_raw_data_mini/criminal_0215.json'\n",
    "STOPWORD_PATH = '../resources/stop_word.txt'\n",
    "RUN_LIMIT = 200000\n",
    "\n",
    "BOWs = []\n",
    "stop_words = set()"
   ]
  },
  {
   "cell_type": "code",
   "execution_count": 3,
   "metadata": {
    "collapsed": true
   },
   "outputs": [],
   "source": [
    "def preprocessing(line):\n",
    "    content = line.get('court_idea')\n",
    "    word_list = segment_to_words(content)\n",
    "    word_list = remove_stop_words(word_list)\n",
    "    BOW = build_BOW(word_list)\n",
    "    BOWs.append(BOW)\n",
    "\n",
    "\n",
    "def build_BOW(word_list):\n",
    "    BOW = {}\n",
    "    for word in word_list:\n",
    "        BOW[word] = BOW.get(word, 0) + 1\n",
    "    return BOW\n",
    "\n",
    "def segment_to_words(sent):\n",
    "    word_list = jieba.cut(sent)\n",
    "    return word_list\n",
    "\n",
    "def remove_stop_words(word_list):\n",
    "    word_list = filter(lambda x: x.encode('utf8') not in stop_words, word_list)\n",
    "    return word_list\n",
    "\n",
    "def load_stop_word_list():\n",
    "    stop_words = set()\n",
    "    word_path = STOPWORD_PATH\n",
    "    with open(word_path, 'r') as f:\n",
    "        for line in f.readlines():\n",
    "            # 去掉结尾的回车\n",
    "            # NOTICE：如果停词表换了，记得这里可能需要一点修改。\n",
    "            stop_words.add(line[:-1].strip())\n",
    "    return stop_words\n",
    "\n",
    "def print_top_words(model, feature_names, n_top_words):\n",
    "    for topic_idx, topic in enumerate(model.components_):\n",
    "        message = \"Topic #%d: \" % topic_idx\n",
    "        # 按主题可能性大小排序、输出。\n",
    "        message += \" \".join([feature_names[i]\n",
    "                             for i in topic.argsort()[:-n_top_words - 1:-1]])\n",
    "        print(message)\n",
    "        # print data_samples[topic_idx]\n",
    "        print\n",
    "    print\n",
    "    return message"
   ]
  },
  {
   "cell_type": "code",
   "execution_count": 4,
   "metadata": {
    "collapsed": false
   },
   "outputs": [],
   "source": [
    "stop_words =load_stop_word_list()\n",
    "with open(DATA_PATH,'r') as file:\n",
    "    position = 0\n",
    "    try:\n",
    "        while True:\n",
    "            try:\n",
    "                line = file.readline()\n",
    "                line = json.loads(line)\n",
    "                preprocessing(line)\n",
    "                position += 1\n",
    "            except ValueError:\n",
    "                pass\n",
    "\n",
    "            if position > RUN_LIMIT:\n",
    "                break\n",
    "    except EOFError:\n",
    "        pass"
   ]
  },
  {
   "cell_type": "code",
   "execution_count": 6,
   "metadata": {
    "collapsed": true
   },
   "outputs": [],
   "source": [
    "def build_model():\n",
    "    tfidf_transformer = TfidfTransformer()\n",
    "    vectorizer = DictVectorizer()\n",
    "    training_data = vectorizer.fit_transform(BOWs)\n",
    "#     train_tfidf = tfidf_transformer.fit_transform(training_data)\n",
    "\n",
    "    lda = LatentDirichletAllocation(n_topics=5, max_iter=200,\n",
    "                                    learning_method='online',\n",
    "                                    learning_offset=50.,\n",
    "                                    random_state=0)\n",
    "    lda.fit(training_data)\n",
    "    keywords = print_top_words(lda, vectorizer.get_feature_names(), 20)\n",
    "    maxtrix = lda.transform(training_data)\n",
    "    \n",
    "    return keywords, maxtrix"
   ]
  },
  {
   "cell_type": "code",
   "execution_count": null,
   "metadata": {
    "collapsed": false
   },
   "outputs": [],
   "source": [
    "keywords, maxtrix = build_model()"
   ]
  },
  {
   "cell_type": "code",
   "execution_count": 40,
   "metadata": {
    "collapsed": false
   },
   "outputs": [
    {
     "name": "stdout",
     "output_type": "stream",
     "text": [
      "topic 2\n",
      "\n",
      "本院认为，被告人李丁伙同他人持械故意伤害他人身体，致一人轻伤，其行为已构成故意伤害罪，应依法予以惩处。公诉机关指控的犯罪事实清楚，证据确实充分，指控罪名成立。多名证人证言、被告人的供述及被害人的陈述予以相互印证，证实李丁参与持械殴打被害人，故其未参与殴打被害人的辩解本院不予采纳。被害人对本案的发生存在一定过错，可以酌情对被告人从轻处罚。为保护公民人身权利不受侵犯，根据《中华人民共和国刑法》第二百三十四条第一款、第二十五条第一款之规定，\n",
      "\n",
      "topic 0\n",
      "\n",
      "综上，本院认为：被告人毛某捏造并通过互联网传播虚伪事实，损害他人商业信誉，情节严重，其行为已构成损害商业信誉罪，应予惩处。公诉机关的指控成立。鉴于被告人毛某犯罪后能自动投案，可酌情从轻处罚；同时结合本案的具体情况，可予酌情从轻处罚。公诉机关提出对被告人毛某判处有期徒刑六个月至一年的量刑建议，可予采纳。依照《中华人民共和国刑法》第二百二十一条、第六十四条之规定，\n",
      "\n",
      "topic 2\n",
      "\n",
      "本院认为，被告人梅某以营利为目的开设赌场，抽头获利人民币50000余元，其行为已构成开设赌场罪，公诉机关指控的罪名成立。关于被告人梅某及其辩护人提出的被告人梅某仅获利1万余元的意见。本院经查认为，被告人梅某于2013年清明前后开设赌场，实际开设时间50余天，抽头获利5万余元的事实，有被告人梅某在公安侦查阶段的供述，证人胡某、朱某甲、杨某、余某、王某、应某某、刘某、陈某乙的证言予以证实，上述证人均经常在梅某赌场赌博，对梅某抽头获利的证言应予以采信，故梅某开设赌场抽头获利5万余元的事实清楚、证据充分，被告人梅某及其辩护人就此提出的意见，本院不予采纳。被告人梅某有劣迹，酌情从重处罚。被告人自愿认罪，酌情从轻处罚。被告人的违法所得应予以追缴。依照《中华人民共和国刑法》第三百零三条第二款、第六十四条之规定，\n",
      "\n",
      "topic 2\n",
      "\n",
      "本院认为，被告人闫某作为广西省北海市1040工程传销组织的领导者和组织者，扰乱经济社会秩序，其行为已构成组织、领导传销活动罪，公诉机关指控的罪名及事实成立，本院予以确认。案发后被告人闫某自动到案，如实供述犯罪事实，系自首，可从轻处罚。依照《中华人民共和国刑法》第二百二十四条、第五十二条、第五十三条、第六十七条、第七十二条、第七十三条之规定，\n",
      "\n",
      "topic 2\n",
      "\n",
      "本院认为，被告人李某某违反狩猎法规，在禁猎区、禁猎期使用呼鸟器和捕鸟网捕鸟的方法捕捉画眉鸟81只，破坏野生动物资源，情节严重，其行为已构成非法狩猎罪。公诉机关指控被告人李某某犯非法狩猎罪的事实清楚，证据确实充分，罪名成立。被告人李某某到案后如实供述自己的罪行，依法可以从轻处罚。综上所述，对被告人李某某适用《中华人民共和国刑法》第三百四十一条第二款、第六十七条第三款的规定，\n",
      "\n",
      "topic 2\n",
      "\n",
      "本院认为，被告人李雄以非法占有为目的，纠集被告人胡成、曾锦阳、龚某、王某某、胡某等人通过发布虚假信息，对不特定多数人实施诈骗，多次骗取他人现金共计21.53万元，数额巨大；被告人李某于2012年11月加入该诈骗团伙，参与诈骗二起，骗取他人现金55900元，数额巨大，七被告人的行为均已构成诈骗罪。公诉机关对七被告人指控罪名成立，予以支持。被告人李雄系该犯罪团伙的发起者、组织者，在共同犯罪中起主要作用，是主犯，应按照其所组织人员的全部犯罪处罚。被告人胡成、曾锦阳、龚某、李某、王某某、胡某在共同犯罪中均起辅助作用，均系从犯，依法均可从轻或减轻处罚，同时在量刑时根据六被告人在具体犯罪中的作用酌情区分。对被告人胡成、曾锦阳、李某、王某某、胡某的辩护人提出从犯的辩护意见，予以采纳。关于被告人李雄、胡成、曾锦阳、龚某、王某某、胡某、李某及其辩护人共同提出各被告人仅参与部分犯罪，不应对全部犯罪承担责任的辩解及辩护意见，经查，现有证据证明各被告人在出租屋内就诈骗方法、步骤、诈骗钱款的分配、房租分担等均经事前预谋，后按事先预谋的诈骗方法，由专人向各被告人提供银行卡、电话卡并负责对外群发诈骗短信、取款，其他被告人相互配合接听电话共同实施了多起诈骗行为，且在诈骗过程中，被告人之间的配合对象均随机选择。故现有证据足以认定各被告人主观上具有共同诈骗的犯罪故意，客观上共同实施了多起诈骗行为，各被告人主客观方面均符合共同犯罪特征，系共同犯罪。各被告人实际接听被害人电话次数及分赃多少均不影响共同犯罪的成立，故对各被告人依法均应以全部犯罪数额认定。被告人李某于2012年11月加入该犯罪团伙，其应对之后该团伙实施的全部犯罪承担责任。各被告人及其辩护人的该项辩解及辩护意见不成立，不予采纳。其他辩解意见与本院查明事实一致的予以采纳。根据七被告人犯罪的事实、性质、情节和对社会的危害程度，依照《中华人民共和国刑法》第二百六十六条、第二十五条第一款、第二十六条第一、四款、第二十七条第一、二款及最高人民法院最高人民检察院《关于办理诈骗刑事案件具体应用法律若干问题的解释》第二条第一款第（一）项之规定，\n",
      "\n",
      "topic 2\n",
      "\n",
      "本院认为，被告人张某甲违反森林法有关规定，向他人购得桉树后，在未取得采伐许可手续的情况下，擅自雇请他人砍伐桉树，数量较大，其行为已构成滥伐林木罪，被告人应当依法承担刑事责任，公诉机关指控被告人的犯罪罪名成立。鉴于被告人归案后认罪悔罪，被告人请求从轻判处的意见，予以采纳。根据罪责刑相适应原则，依据《中华人民共和国刑法》第三百四十五条第二款之规定，\n",
      "\n",
      "topic 2\n",
      "\n",
      "本院认为，被告人薛某、张某明知诈骗网站以虚构事实的方法骗取他人财物，通过网络帮助其转移诈骗所得赃款，并获取利益，数额较大，二被告人的行为均已构成诈骗罪，对被告人薛某、张某依法应处三年以下有期徒刑、拘役或者管制，并处或者单处罚金。被告人薛某、张某共同实施诈骗犯罪，系共同犯罪。公诉机关指控被告人薛某、张某犯诈骗罪及系共同犯罪的事实清楚，证据确实充分，罪名正确，予以采纳。被告人张某及其辩护人提出的被告人张某未参与公诉机关指控的第一起诈骗犯罪的辩解意见，经查认为，公诉机关根据侦查机关从网络上下载的宝贝联盟网站注册信息中载明注册人为&amp;amp;ldquo;彭志文&amp;amp;rdquo;，结合从被告人张某住处查获彭志文居民身份证，据此认定被告人张某参与管理宝贝联盟网站，但并没有证据证明被告人张某用其持有的彭志文居民身份证注册成立该网站，亦未查明其持有的彭志文居民身份证的实际来源，公诉机关认定被告人张某参与管理诈骗网站并诈骗被害人李某10098元的证据不足，不予支持。故被告人薛某的上述辩解及辩护人的上述辩护意见均能成立，本院予以采纳。辩护人提出的公诉机关指控被告人薛某将诈骗网站所骗取袁某、陈某的钱款汇入被告人张某持有的银行卡内以及张某以&amp;amp;ldquo;少年&amp;amp;rdquo;名义登陆网站与他人聊天，参与涉案网站实施诈骗犯罪证据不足的辩护意见，经查认为，根据被告人薛某、张某的供述、相关证人证言以及侦某好友列表截屏及聊天记录等证据，能够证实被告人薛某在第三方支付平台上使用自制的花旗支付系统与诈骗网站合作，为诈骗网站提供费用结算，后又通过QQ聊天方式与张某进行协商，将诈骗网站所骗取的钱款汇入被告人张某持有的银行卡内，此后张某将收到的款项又转入诈骗网站指定的黑户银行卡内，二被告人均获取一定比例的好处费，并有电子检查记录、远程勘验记录以及网上银行下载的付款记录等证据予以印证，足以认定被告人张某明知诈骗网站实施诈骗犯罪而为其提供资金结算，并获取非法利益，其行为已构成诈骗罪，故辩护人的上述辩护意见不能成立，不予采纳。鉴于被告人薛某能够如实供述犯罪事实，依法对其从轻处罚。被告人张某自愿认罪，并退还全部赃款，依法对其从轻处罚。依照《中华人民共和国刑法》第二百六十六条、第二十五条第一款、第六十四条、第六十七条第三款之规定，\n",
      "\n",
      "topic 2\n",
      "\n",
      "本院认为：被告人王某某以非法占有为目的，超过规定期限透支信用卡，经发卡银行多次催收后仍不归还，其行为构成了信用卡诈骗罪，应予刑罚处罚，公诉机关指控的事实及罪名成立。对辩护人提出的被告人王某某无罪的辩护意见，本院不予采纳。被告人王某某当庭认罪，且犯罪情节轻微，在判决宣告前已偿还全部透支款息，可以免除处罚。根据被告人王某某的犯罪事实、性质、情节和对社会的危害程度，依照《中华人民共和国刑法》一百九十六条、第三十七条以及《最高人民法院、最高人民检察院关于办理妨害信用卡管理刑事案件具体应用法律若干问题的解释》第六条第四款之规定，\n",
      "\n",
      "topic 2\n",
      "\n",
      "本院认为，被告人陈某某违反森林管理法规，非法收购国家二级保护植物，其行为已构成非法收购国家重点保护植物罪。公诉机关指控的罪名成立，被告人陈某某应负刑事责任。被告人陈某某归案后如实供述，依法从轻处罚；在庭审中自愿认罪，酌情从轻处罚。依照《中华人民共和国刑法》第三百四十四条、第六十七条第三款、第七十二条第一款、第三款、第七十三条第二款、第三款的规定，\n",
      "\n"
     ]
    }
   ],
   "source": [
    "import random\n",
    "import linecache\n",
    "\n",
    "CHECK_LIMIT = 10\n",
    "\n",
    "for i in range(CHECK_LIMIT):\n",
    "    try:\n",
    "        r = random.randrange(1, RUN_LIMIT)\n",
    "        line = linecache.getline(DATA_PATH, r)\n",
    "        line = json.loads(line)\n",
    "        top_distribution = maxtrix[r] \n",
    "        index = 0\n",
    "        max_v = -999999\n",
    "        for i, v in enumerate(top_distribution):\n",
    "            if v > max_v:\n",
    "                max_v = v\n",
    "                index = i\n",
    "        print 'topic', index\n",
    "#   print 'judge result',line.get('judge_result')\n",
    "        print \n",
    "        print line.get('court_idea')\n",
    "\n",
    "        print \n",
    "    except ValueError:\n",
    "        pass"
   ]
  },
  {
   "cell_type": "code",
   "execution_count": null,
   "metadata": {
    "collapsed": true
   },
   "outputs": [],
   "source": [
    ""
   ]
  }
 ],
 "metadata": {
  "kernelspec": {
   "display_name": "Python 2",
   "language": "python",
   "name": "python2"
  },
  "language_info": {
   "codemirror_mode": {
    "name": "ipython",
    "version": 2.0
   },
   "file_extension": ".py",
   "mimetype": "text/x-python",
   "name": "python",
   "nbconvert_exporter": "python",
   "pygments_lexer": "ipython2",
   "version": "2.7.10"
  }
 },
 "nbformat": 4,
 "nbformat_minor": 0
}